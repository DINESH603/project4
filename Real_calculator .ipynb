{
 "cells": [
  {
   "cell_type": "markdown",
   "id": "8b17ead1",
   "metadata": {},
   "source": [
    "# CALCULATOR (basic operations)"
   ]
  },
  {
   "cell_type": "code",
   "execution_count": 41,
   "id": "24efebad",
   "metadata": {},
   "outputs": [
    {
     "name": "stdout",
     "output_type": "stream",
     "text": [
      "Enter the expression and provide one space before each term in the expression \n",
      "2 % 3\n",
      "modulus  of 2 and 3 is = 2\n"
     ]
    }
   ],
   "source": [
    "def add(a, b):                   #defining function for various operations #addition\n",
    "    return a + b\n",
    "def multiply(a, b):              #mutiplication\n",
    "    return a * b\n",
    "def devison(a, b):               #division\n",
    "    return a / b \n",
    "def modulo_divison(a, b):        #modulo division\n",
    "    return a % b\n",
    "def subtract(a, b):              #subtraction\n",
    "    return a - b\n",
    "def int_divison(a, b):           #floor division\n",
    "    return a // b\n",
    "def power(a, b):                 #exponentation\n",
    "    return a ** b \n",
    "\n",
    "try:\n",
    "    \n",
    "    num1,ope, num2 = map(str, input('Enter the expression and provide one space before each term in the expression \\n').split(' '))\n",
    "    num1 = int(num1)\n",
    "    num2 = int(num2)\n",
    "    \n",
    "    if ope == '+':\n",
    "        print('addition of {a} and {b} is ='.format(a=num1, b=num2), add(num1, num2))\n",
    "    elif ope == '*':\n",
    "        print('multiplication of {a} and {b} is ='.format(a=num1, b=num2), multiply(num1, num2))\n",
    "    elif ope == '/':\n",
    "        print('divison of {a} and {b} is ='.format(a=num1, b=num2), divison(num1, num2))\n",
    "    elif ope == '**':\n",
    "        print('{a} to the power of {b} is '.format(a=num1, b=num2), power(num1, num2))\n",
    "    elif ope == '%':\n",
    "        print('modulus  of {a} and {b} is ='.format(a=num1, b=num2), modulo_divison(num1, num2))\n",
    "    elif ope == '-':\n",
    "        print('subtraction of {a} and {b} is ='.format(a=num1, b=num2), subtract(num1, num2))\n",
    "    elif ope == '//':\n",
    "        print('integer divison of {a} and {b} is ='.format(a=num1, b=num2), int_divison(num1, num2))\n",
    "    else:\n",
    "        print('invalid syntax please check your expression')\n",
    "        \n",
    "except:\n",
    "    print('please provide proper space for each term so that pyhton reads each term clearly')\n"
   ]
  }
 ],
 "metadata": {
  "kernelspec": {
   "display_name": "Python 3",
   "language": "python",
   "name": "python3"
  },
  "language_info": {
   "codemirror_mode": {
    "name": "ipython",
    "version": 3
   },
   "file_extension": ".py",
   "mimetype": "text/x-python",
   "name": "python",
   "nbconvert_exporter": "python",
   "pygments_lexer": "ipython3",
   "version": "3.8.8"
  }
 },
 "nbformat": 4,
 "nbformat_minor": 5
}
